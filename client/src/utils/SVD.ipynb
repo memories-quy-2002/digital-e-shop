{
  "cells": [
    {
      "cell_type": "code",
      "execution_count": 1,
      "metadata": {
        "colab": {
          "base_uri": "https://localhost:8080/"
        },
        "id": "oBjSfh2upG7l",
        "outputId": "da55782a-7ad0-4d9e-85f3-47230fdbfc50"
      },
      "outputs": [],
      "source": [
        "# Import data\n",
        "import pandas as pd\n",
        "import numpy as np\n",
        "from scipy.sparse.linalg import svds\n",
        "import json"
      ]
    },
    {
      "cell_type": "code",
      "execution_count": 2,
      "metadata": {},
      "outputs": [],
      "source": [
        "# Load data\n",
        "data = pd.read_csv(\"../utils/history.csv\")  # Update filename here"
      ]
    },
    {
      "cell_type": "code",
      "execution_count": 3,
      "metadata": {},
      "outputs": [],
      "source": [
        "def recommend_products_for_latest(UID, user_item_matrix, U, sigma, Vt, top_n=16):\n",
        "    latest_order_id = user_item_matrix.index.max()  # Get the highest order ID\n",
        "    i = user_item_matrix.index.get_loc(latest_order_id)  # Get the index of the latest order\n",
        "    user_row = U[i]\n",
        "\n",
        "    # Predict ratings for all items\n",
        "    predicted_ratings = np.dot(user_row, Vt)\n",
        "\n",
        "    # Get product IDs with the highest predicted ratings\n",
        "    top_n_indices = np.argsort(predicted_ratings)[::-1][:top_n]\n",
        "    recommended_product_ids = user_item_matrix.columns[top_n_indices].tolist()\n",
        "\n",
        "    return {\"user_id\": UID, \"products\": recommended_product_ids}"
      ]
    },
    {
      "cell_type": "code",
      "execution_count": 4,
      "metadata": {},
      "outputs": [
        {
          "data": {
            "text/plain": [
              "[{'user_id': 'yGbezIdeDnPB6kSlVxFKQsO4tvD3',\n",
              "  'products': [19, 11, 10, 4, 16, 17, 5, 15, 21, 7, 13, 23, 18, 12, 28, 29]},\n",
              " {'user_id': 'ljul8hizGLbsDwKUIjHIJYXCnFF3',\n",
              "  'products': [21, 15, 16, 17, 7, 11, 18, 10, 26, 1, 23, 30, 13, 20, 27, 3]},\n",
              " {'user_id': '3jrrdvJWJkhtyEk8qGIJmJJk8M92',\n",
              "  'products': [5, 22, 13, 21, 12, 23, 9, 17, 27, 30, 26, 25, 3, 1, 7, 6]}]"
            ]
          },
          "execution_count": 4,
          "metadata": {},
          "output_type": "execute_result"
        }
      ],
      "source": [
        "# Create a user-item matrix (pivot table)\n",
        "totalRecommendation = []\n",
        "\n",
        "for UID in data['ID'].unique():\n",
        "    personFilter = data['ID'].isin([UID])\n",
        "    personalHistory = data[personFilter]\n",
        "\n",
        "    user_item_matrix = personalHistory.pivot_table(\n",
        "    index=['order_id'],  # Users as rows\n",
        "    columns='product_id',  # Products as columns\n",
        "    values='quantity',\n",
        "    aggfunc='sum',\n",
        "    fill_value=0   \n",
        ")\n",
        "    # Convert the DataFrame to a NumPy array\n",
        "    user_item_matrix_array = user_item_matrix.to_numpy().astype(np.float64) # Convert to NumPy array\n",
        "\n",
        "    # Perform SVD (adjust k based on your dataset and desired accuracy-complexity trade-off)\n",
        "    U, sigma, Vt = svds(user_item_matrix_array, k=1)  # Choose appropriate k\n",
        "\n",
        "    # Reconstruct a low-rank approximation of the user-item matrix (optional)\n",
        "    user_item_approx = np.dot(U, np.dot(np.diag(sigma), Vt))\n",
        "    recommended_products = recommend_products_for_latest(UID, user_item_matrix=user_item_matrix, U=U, sigma=sigma, Vt=Vt)\n",
        "    # print(recommended_products) # if you wish, you can print the values\n",
        "    totalRecommendation += [recommended_products]\n",
        "\n",
        "totalRecommendation"
      ]
    },
    {
      "cell_type": "code",
      "execution_count": 5,
      "metadata": {},
      "outputs": [],
      "source": [
        "with open('recommendations.json', 'w') as f:\n",
        "    json.dump(totalRecommendation, f, indent = 4)"
      ]
    }
  ],
  "metadata": {
    "colab": {
      "provenance": []
    },
    "kernelspec": {
      "display_name": "Python 3",
      "name": "python3"
    },
    "language_info": {
      "codemirror_mode": {
        "name": "ipython",
        "version": 3
      },
      "file_extension": ".py",
      "mimetype": "text/x-python",
      "name": "python",
      "nbconvert_exporter": "python",
      "pygments_lexer": "ipython3",
      "version": "3.12.3"
    }
  },
  "nbformat": 4,
  "nbformat_minor": 0
}
